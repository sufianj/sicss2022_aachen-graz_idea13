{
 "cells": [
  {
   "cell_type": "markdown",
   "id": "ffef4989-1452-4736-9834-f09dda41bfd4",
   "metadata": {
    "id": "ffef4989-1452-4736-9834-f09dda41bfd4"
   },
   "source": [
    "## Sentiment analysis"
   ]
  },
  {
   "cell_type": "code",
   "execution_count": null,
   "id": "YddbxG5sbd9r",
   "metadata": {
    "colab": {
     "base_uri": "https://localhost:8080/"
    },
    "id": "YddbxG5sbd9r",
    "outputId": "35f3fd25-ccf2-475f-bdae-f019499a56c5"
   },
   "outputs": [],
   "source": [
    "!pip install pyreadr "
   ]
  },
  {
   "cell_type": "code",
   "execution_count": null,
   "id": "Fx8idvoqbIlB",
   "metadata": {
    "colab": {
     "base_uri": "https://localhost:8080/"
    },
    "id": "Fx8idvoqbIlB",
    "outputId": "c9ea03fc-3e62-4175-c6b4-c3e79a601f4b"
   },
   "outputs": [],
   "source": [
    "!pip install transformers"
   ]
  },
  {
   "cell_type": "code",
   "execution_count": null,
   "id": "6fa7849a-0bdd-470c-910a-2c2880382341",
   "metadata": {
    "id": "6fa7849a-0bdd-470c-910a-2c2880382341"
   },
   "outputs": [],
   "source": [
    "%%capture\n",
    "\n",
    "import sys\n",
    "from transformers import pipeline\n",
    "import pyreadr\n",
    "import matplotlib.pyplot as plt\n",
    "import pandas as pd\n",
    "from sklearn.linear_model import LinearRegression\n",
    "from scipy import stats\n",
    "\n",
    "import matplotlib.dates as mdates"
   ]
  },
  {
   "cell_type": "code",
   "execution_count": null,
   "id": "6ff1b5a3-fa2e-40b9-8778-3c487b23cc70",
   "metadata": {
    "id": "6ff1b5a3-fa2e-40b9-8778-3c487b23cc70"
   },
   "outputs": [],
   "source": [
    "sentiment_classifier = pipeline(task=\"sentiment-analysis\", device=0) # run on GPU!!"
   ]
  },
  {
   "cell_type": "code",
   "execution_count": null,
   "id": "7cafa068-8ca7-4b30-a1cb-6b08d49c019f",
   "metadata": {
    "colab": {
     "base_uri": "https://localhost:8080/",
     "height": 209,
     "referenced_widgets": [
      "39275269cd8d488189dca7a94707a90e",
      "4ab9b2ee9046457c85d5b6290e0aea94",
      "df1f5b059a944f2fb3a811a5385afce7",
      "8cff46393e934cb990f5ca3c1d677869",
      "0699d74e48ae420c84ea0cbf131047bb",
      "2cca85affaf94d49b309e89449f682ba",
      "ac4bad3258fe460bbb0975ae6a75a306",
      "2f135466844d4f26a22806abda496c57",
      "fecbba9bfe3e4051b65c36cfa0ebc9ed",
      "1abea2279a284539a2dc2ebd43b55699",
      "12c507646527479894f437ba5784bce4",
      "d20bbafe0eae466db0a72e0de738fa98",
      "55973de4302d46ebae37ef56669d57d2",
      "95bcd05cb8004272ab113ab3320c0a88",
      "f218bc7fe6ec48c8b6c791320ba4ea4d",
      "f98531725e404399aad7f7f5aba548c6",
      "50ae431644de4982ade4eabc6c3db979",
      "ee8db236aacd4bf7bdecfa72782693c3",
      "04c38043f1664a9cb6989a7033170f55",
      "a9bac648c9cf4bbfb119d25e31b8c496",
      "5449ce2bde754fa09de8d1c27ce4d0e7",
      "e7f3b5699ad946178b2796c410ec22ab",
      "c820166d823549c1b8d6265fa2202efe",
      "3e92fe02b5c44233b67163ba5fe7a920",
      "b66c4c5e27a042a8a17e396d4ef1b8ce",
      "291c90ffdb9048dc87b31905f01d3ee8",
      "56f9152430a34cb293414f295ee57729",
      "a2bc77899fb3474593328fcd9624cd55",
      "fdb977aef72a446fa6dc44b6c58a6a31",
      "ccf6c71de74e42669223c462cc93a86e",
      "ec151fb2f5874fdc92f642aa5866d7f1",
      "e681d5b0159d42f5b1a701832ae4dbab",
      "4a2fadff426c48858b9aa103efded358",
      "5ac204c0a88e4a9e885840ee188a2e61",
      "f8caaf24462d4b62948b9a4644eaa6bd",
      "a6551e9b7b904feb9edd2246c94c72da",
      "97d4e02fd3a24ef2aebe36c0e582c4cf",
      "cb5b2bd6c09d42989b735d2a574c34b9",
      "d69ec92f6c074f4a9b5ae262a0bd8a5e",
      "1e626b176a104a7ca93e2f800548fc01",
      "4a53b7648044402dba2f5c59cca33b2a",
      "7f2eecb8f41e4c52bcbae183ec48070d",
      "91a3f6e3dffa4c01af4f96f0dadc485c",
      "d72a56af193f4de5b793236d3a525c4b",
      "ffb5f57bfdb2460e84edc13ba628504a",
      "6c8e4898a8c04957958fd30c31861a80",
      "13d796b949b54b8f8044b5541aa659ec",
      "11acf578c33a4b0a97a3731b9df03f83",
      "419b2905f5094809bbfd6ed859962d94",
      "7a0ae15d40034407bc2b3af7735ddac0",
      "a50f92b7ae264281b22c25d48cec32ca",
      "bb4275ab976949e4a4cf57f21195634c",
      "cb52cfa747c3477e99bfe8044783669a",
      "04174f5db4cf45b9b2d37fdc2778c6ad",
      "35e0200dbdbe4339a09b9f11f2aacb0c",
      "2faa9f165e614c238dc58e094d178a98",
      "70f44feab7ea4bc4b17719d701e7beea",
      "fb75105b7fa049f2957388d3ddec1425",
      "03c532ef4c4a45a48ce5ffabb70e604b",
      "3e9893ed75e24f6e8b9cb1dacaf98a07",
      "08497db50ce64405969dc7fe0780263b",
      "5c2e952c325248179d99f597af0a5aed",
      "814e5135aae54afe8542436f3e0b0880",
      "9ca5f055636f4bcd81bc83519386a183",
      "dbe77607e7e14246bbb10ae9dd415075",
      "3303689590f14254a7e163e73f495252"
     ]
    },
    "id": "7cafa068-8ca7-4b30-a1cb-6b08d49c019f",
    "outputId": "3b30cd9b-c4e7-4c52-f20b-d7b852da551c"
   },
   "outputs": [],
   "source": [
    "#pretrained_LM_path = \"kornosk/bert-political-election2020-twitter-mlm\" # Knowledge Enhance Masked Language Model for Stance Detection\n",
    "pretrained_LM_path = \"m-newhauser/distilbert-political-tweets\" # to classify short pieces of text as having either Democratic or Republican sentiment\n",
    "poli_sentiment_classifier = pipeline(model=pretrained_LM_path, task=\"sentiment-analysis\", device=0) # 0 means 'CUDA'"
   ]
  },
  {
   "cell_type": "code",
   "execution_count": null,
   "id": "3abc8572-9c1d-44cf-ae43-280b0a76b572",
   "metadata": {
    "id": "3abc8572-9c1d-44cf-ae43-280b0a76b572"
   },
   "outputs": [],
   "source": [
    "''' for google drive\n",
    "df_trp_twt_clean = pd.read_csv('/content/drive/MyDrive/trump_twts_2016.csv')\n",
    "df_clt_twt_clean = pd.read_csv('/content/drive/MyDrive/clinton_twts_2016.csv')'''\n",
    "\n",
    "df_trp_twt_clean = pd.read_csv('trump_twts_2016.csv')\n",
    "df_clt_twt_clean = pd.read_csv('clinton_twts_2016.csv')"
   ]
  },
  {
   "cell_type": "code",
   "execution_count": null,
   "id": "8f8f58f0-59af-467c-8955-655ca8f6ce1b",
   "metadata": {
    "id": "8f8f58f0-59af-467c-8955-655ca8f6ce1b",
    "outputId": "ada624a5-3f2c-4c50-fea4-fa03d809ae39"
   },
   "outputs": [],
   "source": [
    "# sentiment_classifier(df_clt_twt_clean.text_no_stopwords[0]) #we should not remove stop works when we use transformers\n",
    "# output: [{'label': 'NEGATIVE', 'score': 0.9671860933303833}]\n",
    "# sentiment_classifier(df_clt_twt_clean.text[0]) \n",
    "# output: [{'label': 'POSITIVE', 'score':0.9541610479354858}]"
   ]
  },
  {
   "cell_type": "code",
   "execution_count": null,
   "id": "9f06bd11-44ad-408f-bfc5-a4e4ca7eb281",
   "metadata": {
    "id": "9f06bd11-44ad-408f-bfc5-a4e4ca7eb281"
   },
   "outputs": [],
   "source": [
    "%%time\n",
    "df_trp_twt_clean['poli_sentiment'] =  df_trp_twt_clean.text.apply(poli_sentiment_classifier)\n"
   ]
  },
  {
   "cell_type": "code",
   "execution_count": null,
   "id": "mPiyM0GEdqXW",
   "metadata": {
    "id": "mPiyM0GEdqXW"
   },
   "outputs": [],
   "source": [
    "%%time\n",
    "df_clt_twt_clean['poli_sentiment'] =  df_clt_twt_clean.text.apply(poli_sentiment_classifier)"
   ]
  },
  {
   "cell_type": "code",
   "execution_count": null,
   "id": "74585f30-9a26-4af4-81de-068cf2efb3c5",
   "metadata": {
    "id": "35eabfb9-4ca3-42a6-a199-05f313b6c4ee"
   },
   "outputs": [],
   "source": [
    "df_trp_twt_clean['poli_sentiment_label'] = [li[0]['label'] for li in df_trp_twt_clean['poli_sentiment']]\n",
    "df_clt_twt_clean['poli_sentiment_label'] = [li[0]['label'] for li in df_clt_twt_clean['poli_sentiment']]\n",
    "df_trp_twt_clean['poli_sentiment_score'] = [li[0]['score'] for li in df_trp_twt_clean['poli_sentiment']]\n",
    "df_clt_twt_clean['poli_sentiment_score'] = [li[0]['score'] for li in df_clt_twt_clean['poli_sentiment']]\n",
    "df_trp_twt_clean = df_trp_twt_clean.drop(columns=['poli_sentiment'])\n",
    "df_clt_twt_clean = df_clt_twt_clean.drop(columns=['poli_sentiment'])"
   ]
  },
  {
   "cell_type": "code",
   "execution_count": null,
   "id": "7629d6b6-9687-4b71-acfb-926c466d589a",
   "metadata": {
    "id": "7629d6b6-9687-4b71-acfb-926c466d589a",
    "outputId": "94f8ebf9-809f-48f0-87de-1c04364fa963"
   },
   "outputs": [
    {
     "name": "stderr",
     "output_type": "stream",
     "text": [
      "C:\\Users\\Shufan\\anaconda3\\envs\\transformers4\\lib\\site-packages\\transformers\\pipelines\\base.py:1036: UserWarning: You seem to be using the pipelines sequentially on GPU. In order to maximize efficiency please use a dataset\n",
      "  warnings.warn(\n"
     ]
    },
    {
     "name": "stdout",
     "output_type": "stream",
     "text": [
      "CPU times: total: 40min 24s\n",
      "Wall time: 40min 47s\n"
     ]
    }
   ],
   "source": [
    "%%time\n",
    "df_trp_twt_clean['sentiment'] =  df_trp_twt_clean.text.apply(sentiment_classifier)"
   ]
  },
  {
   "cell_type": "code",
   "execution_count": null,
   "id": "a0c254c3-ab42-4313-b54a-5230ab30a4fc",
   "metadata": {
    "id": "a0c254c3-ab42-4313-b54a-5230ab30a4fc",
    "outputId": "aebb8481-2bba-4c2b-8ece-695f6a80fd84"
   },
   "outputs": [
    {
     "name": "stderr",
     "output_type": "stream",
     "text": [
      "C:\\Users\\Shufan\\anaconda3\\envs\\transformers4\\lib\\site-packages\\transformers\\pipelines\\base.py:1036: UserWarning: You seem to be using the pipelines sequentially on GPU. In order to maximize efficiency please use a dataset\n",
      "  warnings.warn(\n"
     ]
    },
    {
     "name": "stdout",
     "output_type": "stream",
     "text": [
      "CPU times: total: 1h 3min 30s\n",
      "Wall time: 1h 4min 3s\n"
     ]
    }
   ],
   "source": [
    "%%time\n",
    "df_clt_twt_clean['sentiment'] =  df_clt_twt_clean.text.apply(sentiment_classifier)"
   ]
  },
  {
   "cell_type": "code",
   "execution_count": null,
   "id": "880fa2c6-e677-42a3-a507-3fdca4618925",
   "metadata": {
    "id": "880fa2c6-e677-42a3-a507-3fdca4618925"
   },
   "outputs": [],
   "source": [
    "df_trp_twt_clean['sentiment_label'] = [li[0]['label'] for li in df_trp_twt_clean['sentiment']]\n",
    "df_clt_twt_clean['sentiment_label'] = [li[0]['label'] for li in df_clt_twt_clean['sentiment']]\n",
    "df_trp_twt_clean['sentiment_score'] = [li[0]['score'] for li in df_trp_twt_clean['sentiment']]\n",
    "df_clt_twt_clean['sentiment_score'] = [li[0]['score'] for li in df_clt_twt_clean['sentiment']]\n",
    "df_trp_twt_clean = df_trp_twt_clean.drop(columns=['sentiment'])\n",
    "df_clt_twt_clean = df_clt_twt_clean.drop(columns=['sentiment'])"
   ]
  },
  {
   "cell_type": "code",
   "execution_count": null,
   "id": "66e812f9-e264-4bb3-99a2-207c528c6745",
   "metadata": {
    "id": "66e812f9-e264-4bb3-99a2-207c528c6745",
    "outputId": "c51a28c5-07f3-4513-8563-de2d660882ea"
   },
   "outputs": [],
   "source": [
    "df_trp_twt_clean.head()"
   ]
  },
  {
   "cell_type": "code",
   "execution_count": null,
   "id": "sNhcyVfieva9",
   "metadata": {
    "id": "sNhcyVfieva9"
   },
   "outputs": [],
   "source": [
    "''' for colab\n",
    "df_trp_twt_clean.to_csv('/content/drive/MyDrive/trump_twts_2016_classified_senti+poli.csv')\n",
    "df_clt_twt_clean.to_csv('/content/drive/MyDrive/clinton_twts_2016_classified_senti+poli.csv')'''\n",
    "\n",
    "'''local GPU'''\n",
    "df_trp_twt_clean.to_csv('trump_twts_2016_classified_senti.csv')\n",
    "df_clt_twt_clean.to_csv('clinton_twts_2016_classified_senti.csv')"
   ]
  },
  {
   "cell_type": "markdown",
   "id": "6702a253-ae3f-47ad-bbca-111e4841d878",
   "metadata": {
    "id": "6702a253-ae3f-47ad-bbca-111e4841d878"
   },
   "source": [
    "## Plot time series"
   ]
  },
  {
   "cell_type": "code",
   "execution_count": null,
   "id": "cbce235f-cd95-48e8-9fb7-daf51bcb76ce",
   "metadata": {
    "colab": {
     "base_uri": "https://localhost:8080/"
    },
    "id": "cbce235f-cd95-48e8-9fb7-daf51bcb76ce",
    "outputId": "bb0bde75-3307-462a-db79-5c8e70c98a8c"
   },
   "outputs": [],
   "source": [
    "!pip install seaborn"
   ]
  },
  {
   "cell_type": "code",
   "execution_count": 2,
   "id": "a543c925-c584-49b1-9b94-37ea56cd0d48",
   "metadata": {
    "id": "a543c925-c584-49b1-9b94-37ea56cd0d48"
   },
   "outputs": [],
   "source": [
    "import seaborn as sns\n",
    "from datetime import datetime, timedelta\n",
    "import matplotlib.pyplot as plt\n",
    "import pandas as pd\n",
    "from sklearn.linear_model import LinearRegression\n",
    "from scipy import stats\n",
    "import matplotlib.dates as mdates"
   ]
  },
  {
   "cell_type": "code",
   "execution_count": 3,
   "id": "xNFnXY7H7IAy",
   "metadata": {
    "colab": {
     "base_uri": "https://localhost:8080/"
    },
    "id": "xNFnXY7H7IAy",
    "outputId": "91d98677-6375-442e-bb90-83070a5e778e"
   },
   "outputs": [
    {
     "name": "stdout",
     "output_type": "stream",
     "text": [
      "Mounted at /content/drive\n"
     ]
    }
   ],
   "source": [
    "from google.colab import drive\n",
    "drive.mount('/content/drive')"
   ]
  },
  {
   "cell_type": "code",
   "execution_count": null,
   "id": "183ae744-224c-4a2f-90e5-fcb5f96cc088",
   "metadata": {
    "colab": {
     "base_uri": "https://localhost:8080/",
     "height": 206
    },
    "id": "183ae744-224c-4a2f-90e5-fcb5f96cc088",
    "outputId": "942f9ebe-133e-49a5-ecec-63e1526029f5"
   },
   "outputs": [],
   "source": [
    "dfTrump = pd.read_csv('/content/drive/MyDrive/trump_twts_2016_classified_senti+poli.csv', parse_dates=['time'])\n",
    "dfTrump.head()"
   ]
  },
  {
   "cell_type": "code",
   "execution_count": null,
   "id": "e141e8c8-ce00-4f4b-83fa-08b45f4b0201",
   "metadata": {
    "colab": {
     "base_uri": "https://localhost:8080/",
     "height": 206
    },
    "id": "e141e8c8-ce00-4f4b-83fa-08b45f4b0201",
    "outputId": "c8b98127-54f4-4aaf-bc48-98b6d07d9e19"
   },
   "outputs": [],
   "source": [
    "dfClinton = pd.read_csv('/content/drive/MyDrive/clinton_twts_2016_classified_senti+poli.csv',  parse_dates=['time'])\n",
    "dfClinton.head()"
   ]
  },
  {
   "cell_type": "code",
   "execution_count": 8,
   "id": "38b8747b-12d0-4ee4-acd5-a9550efa2e90",
   "metadata": {
    "colab": {
     "base_uri": "https://localhost:8080/"
    },
    "id": "38b8747b-12d0-4ee4-acd5-a9550efa2e90",
    "outputId": "1f79593e-5715-4057-e584-05bf8f351fd2"
   },
   "outputs": [
    {
     "data": {
      "text/plain": [
       "NEGATIVE    398004\n",
       "POSITIVE     82874\n",
       "Name: sentiment_label, dtype: int64"
      ]
     },
     "execution_count": 8,
     "metadata": {},
     "output_type": "execute_result"
    }
   ],
   "source": [
    "dfTrump['sentiment_label'].value_counts()"
   ]
  },
  {
   "cell_type": "code",
   "execution_count": 9,
   "id": "d55cffa3-4b95-4ccd-a175-88479fe1d196",
   "metadata": {
    "colab": {
     "base_uri": "https://localhost:8080/"
    },
    "id": "d55cffa3-4b95-4ccd-a175-88479fe1d196",
    "outputId": "4bbc6279-3363-4b41-ed96-bc24dc0e5d18"
   },
   "outputs": [
    {
     "data": {
      "text/plain": [
       "NEGATIVE    648879\n",
       "POSITIVE    123660\n",
       "Name: sentiment_label, dtype: int64"
      ]
     },
     "execution_count": 9,
     "metadata": {},
     "output_type": "execute_result"
    }
   ],
   "source": [
    "dfClinton['sentiment_label'].value_counts()"
   ]
  },
  {
   "cell_type": "code",
   "execution_count": null,
   "id": "7d478cc6-2e83-42ad-a80e-5b3d765696f3",
   "metadata": {
    "id": "7d478cc6-2e83-42ad-a80e-5b3d765696f3"
   },
   "outputs": [],
   "source": [
    "dfClintonSentiDay = dfClinton.groupby([dfClinton['time'].dt.date, 'sentiment_label', 'political_label'])['sentiment_label'].count().reset_index(name='counts')\n",
    "dfTrumpSentiDay = dfTrump.groupby([dfTrump['time'].dt.date, 'sentiment_label', 'political_label'])['sentiment_label'].count().reset_index(name='counts')"
   ]
  },
  {
   "cell_type": "code",
   "execution_count": 12,
   "id": "89fcd098-de38-423c-852f-2caf3abc8fa2",
   "metadata": {
    "id": "89fcd098-de38-423c-852f-2caf3abc8fa2"
   },
   "outputs": [],
   "source": [
    "# colors\n",
    "repgreen = \"#00AA00\"\n",
    "repred = \"#FF0000\"\n",
    "demblue = \"#0015BC\"\n",
    "demorange = \"#ff9747\""
   ]
  },
  {
   "cell_type": "code",
   "execution_count": 15,
   "id": "93a97e50-6a1c-49d2-ad1a-14be441c94ad",
   "metadata": {
    "colab": {
     "base_uri": "https://localhost:8080/",
     "height": 225
    },
    "id": "93a97e50-6a1c-49d2-ad1a-14be441c94ad",
    "outputId": "42c9237e-8c30-4b9b-8712-9184093de759"
   },
   "outputs": [
    {
     "data": {
      "image/png": "[encoded data removed]",
      "text/plain": [
       "<Figure size 864x216 with 2 Axes>"
      ]
     },
     "metadata": {
      "needs_background": "light"
     },
     "output_type": "display_data"
    }
   ],
   "source": [
    "#kde plot\n",
    "def plot_kde(ax, data, palette, title, legend=True):\n",
    "    sns.kdeplot(\n",
    "        data=data, \n",
    "        x=\"time\", \n",
    "        hue=\"sentiment_label\",\n",
    "        hue_order=[\"POSITIVE\", \"NEGATIVE\"],\n",
    "        palette=palette,\n",
    "        ax=ax,\n",
    "        #multiple=\"stack\",\n",
    "        fill=True,\n",
    "        legend=legend,\n",
    "    )\n",
    "    ax.set_title(title)\n",
    "    #hide the right border and the top border so that it looks like a coordinate system\n",
    "    ax.spines['right'].set_visible(False)\n",
    "    ax.spines['top'].set_visible(False)\n",
    "    ax.tick_params(axis='x', rotation=45)\n",
    "    ax.set_xlabel(\"Time\", fontsize=12,)\n",
    "    ax.set_ylabel(\"Count of tweets\", fontsize=12)\n",
    "\n",
    "fig, axes = plt.subplots(1, 2, figsize=(12, 3), sharey=True)\n",
    "\n",
    "plot_kde(\n",
    "    axes[1], \n",
    "    dfClinton, \n",
    "    [demblue, demorange],\n",
    "    \"Sentiment in tweets concerning Clinton only\",\n",
    ")\n",
    "\n",
    "plot_kde(\n",
    "    axes[0], \n",
    "    dfTrump, \n",
    "    [repred, repgreen],\n",
    "    \"Sentiment in tweets concerning Trump only\",\n",
    ")\n",
    "\n",
    "fig.tight_layout()"
   ]
  },
  {
   "cell_type": "code",
   "execution_count": 17,
   "id": "41a49edd-eba8-4052-b100-62610cf7d214",
   "metadata": {
    "id": "41a49edd-eba8-4052-b100-62610cf7d214"
   },
   "outputs": [],
   "source": [
    "#histogram\n",
    "def plot_histogram(ax, data, palette, title, legend=True, hue=\"sentiment_label\", hue_order=[\"POSITIVE\", \"NEGATIVE\"]):\n",
    "    sns.histplot(\n",
    "        data=data, \n",
    "        x=\"time\", \n",
    "        hue=hue,\n",
    "        hue_order=hue_order,\n",
    "        palette=palette,\n",
    "        ax=ax,\n",
    "        shrink=.6,\n",
    "        edgecolor=None,\n",
    "        multiple=\"stack\",\n",
    "        fill=True,\n",
    "        legend=legend,\n",
    "    )\n",
    "    ax.set_title(title)\n",
    "    #hide the right border and the top border so that it looks like a coordinate system\n",
    "    ax.spines['right'].set_visible(False)\n",
    "    ax.spines['top'].set_visible(False)\n",
    "    ax.tick_params(axis='x', rotation=45,)\n",
    "    ax.set_xlabel(\"Time\", fontsize=12,)\n",
    "    ax.set_ylabel(\"Count of tweets\", fontsize=12)"
   ]
  },
  {
   "cell_type": "code",
   "execution_count": 19,
   "id": "3c77f84d-e31f-459d-8501-4aa1b1576121",
   "metadata": {
    "colab": {
     "base_uri": "https://localhost:8080/",
     "height": 585
    },
    "id": "3c77f84d-e31f-459d-8501-4aa1b1576121",
    "outputId": "375345f5-83cd-4f50-dcd6-558867b03fb4"
   },
   "outputs": [
    {
     "data": {
      "image/png": "[encoded data removed]",
      "text/plain": [
       "<Figure size 1440x576 with 2 Axes>"
      ]
     },
     "metadata": {
      "needs_background": "light"
     },
     "output_type": "display_data"
    }
   ],
   "source": [
    "fig, axes = plt.subplots(2, 1, figsize=(20, 8))\n",
    "\n",
    "plot_histogram(\n",
    "    axes[1], \n",
    "    dfClinton, \n",
    "    [demblue, demorange],\n",
    "    \"Sentiment in tweets concerning Clinton only\",\n",
    ")\n",
    "\n",
    "plot_histogram(\n",
    "    axes[0], \n",
    "    dfTrump, \n",
    "    [repred,repgreen],\n",
    "    \"Sentiment in tweets concerning Trump only\",\n",
    ")\n",
    "\n",
    "fig.tight_layout()"
   ]
  },
  {
   "cell_type": "code",
   "execution_count": 20,
   "id": "26390373-9a3d-4679-a280-42e62d140057",
   "metadata": {
    "colab": {
     "base_uri": "https://localhost:8080/",
     "height": 729
    },
    "id": "26390373-9a3d-4679-a280-42e62d140057",
    "outputId": "d671dbe2-971c-4abe-8e10-f6209570dc84"
   },
   "outputs": [
    {
     "data": {
      "image/png": "[encoded data removed]",
      "text/plain": [
       "<Figure size 1440x720 with 4 Axes>"
      ]
     },
     "metadata": {
      "needs_background": "light"
     },
     "output_type": "display_data"
    }
   ],
   "source": [
    "#histogram + political orientation\n",
    "fig, axes = plt.subplots(2, 2, figsize=(20, 10),sharey=True)\n",
    "plot_histogram(\n",
    "    axes[0][0], \n",
    "    dfClinton[dfClinton[\"political_label\"] == \"Democrat\"], \n",
    "    [repred,repgreen],\n",
    "    \"Democrat's view: Sentiment in tweets concerning Clinton only\",\n",
    ")\n",
    "\n",
    "plot_histogram(\n",
    "    axes[0][1], \n",
    "    dfClinton[dfClinton[\"political_label\"] == \"Republican\"], \n",
    "    [demblue, demorange],\n",
    "    \"Republican's view: Sentiment in tweets concerning Clinton only\",\n",
    "    #legend=True\n",
    ")\n",
    "\n",
    "plot_histogram(\n",
    "    axes[1][0], \n",
    "    dfTrump[dfTrump[\"political_label\"] == \"Democrat\"], \n",
    "    [repred,repgreen],\n",
    "    \"Democrat's view: Sentiment in tweets concerning Trump only\",\n",
    "    legend=True\n",
    ")\n",
    "\n",
    "plot_histogram(\n",
    "    axes[1][1], \n",
    "    dfTrump[dfTrump[\"political_label\"] == \"Republican\"], \n",
    "    [demblue, demorange],\n",
    "    \"Republican's view: Sentiment in tweets concerning Trump only\",\n",
    "    legend=True\n",
    ")\n",
    "\n",
    "\n",
    "fig.tight_layout()"
   ]
  },
  {
   "cell_type": "code",
   "execution_count": 21,
   "id": "445e6e32-846b-4f2b-96f5-5c8f0db5acf9",
   "metadata": {
    "colab": {
     "base_uri": "https://localhost:8080/",
     "height": 729
    },
    "id": "445e6e32-846b-4f2b-96f5-5c8f0db5acf9",
    "outputId": "b72c6b86-17e8-45a5-8d05-3d92e0d4a188"
   },
   "outputs": [
    {
     "data": {
      "image/png": "[encoded data removed]",
      "text/plain": [
       "<Figure size 1440x720 with 4 Axes>"
      ]
     },
     "metadata": {
      "needs_background": "light"
     },
     "output_type": "display_data"
    }
   ],
   "source": [
    "#histogram who dislike more clinton?\n",
    "fig, axes = plt.subplots(2, 2, figsize=(20, 10),sharey=True)\n",
    "plot_histogram(\n",
    "    axes[0][0], \n",
    "    dfClinton[dfClinton[\"sentiment_label\"] == \"NEGATIVE\"], \n",
    "    [repred,demblue],\n",
    "    \"Who says more NEGATIVE things about Clinton\",\n",
    "    hue=\"political_label\",\n",
    "    hue_order=[\"Republican\", \"Democrat\"]\n",
    ")\n",
    "\n",
    "plot_histogram(\n",
    "    axes[0][1], \n",
    "    dfClinton[dfClinton[\"sentiment_label\"] == \"POSITIVE\"], \n",
    "    [repred,demblue],\n",
    "    \"Who says more POSITIVE things about Clinton\",\n",
    "    hue=\"political_label\",\n",
    "    hue_order=[\"Republican\", \"Democrat\"]\n",
    "    #legend=True\n",
    ")\n",
    "\n",
    "plot_histogram(\n",
    "    axes[1][0], \n",
    "    dfTrump[dfTrump[\"sentiment_label\"] == \"NEGATIVE\"], \n",
    "    [repred,demblue],\n",
    "    \"Who says more NEGATIVE things about Trump\",\n",
    "    legend=True,\n",
    "    hue=\"political_label\",\n",
    "    hue_order=[\"Republican\", \"Democrat\"]\n",
    ")\n",
    "\n",
    "plot_histogram(\n",
    "    axes[1][1], \n",
    "    dfTrump[dfTrump[\"sentiment_label\"] == \"POSITIVE\"], \n",
    "    [repred,demblue],\n",
    "    \"Who says more POSITIVE things about Trump\",\n",
    "    legend=True,\n",
    "    hue=\"political_label\",\n",
    "    hue_order=[\"Republican\", \"Democrat\"]\n",
    ")\n",
    "\n",
    "\n",
    "fig.tight_layout()\n"
   ]
  },
  {
   "cell_type": "markdown",
   "id": "d1a151a7-7997-443a-bea3-bc4887817cbf",
   "metadata": {
    "id": "d1a151a7-7997-443a-bea3-bc4887817cbf"
   },
   "source": [
    "### merged from Federico"
   ]
  },
  {
   "cell_type": "code",
   "execution_count": null,
   "id": "GcZD9h6BHOYb",
   "metadata": {
    "id": "GcZD9h6BHOYb"
   },
   "outputs": [],
   "source": [
    "dfTrump = pd.read_csv('/content/drive/MyDrive/trump_twts_2016_classified_senti+poli.csv', parse_dates=['time'])\n",
    "dfClinton = pd.read_csv('/content/drive/MyDrive/clinton_twts_2016_classified_senti+poli.csv',  parse_dates=['time'])"
   ]
  },
  {
   "cell_type": "code",
   "execution_count": null,
   "id": "bfe5eea0-11e3-4039-ab7d-11a60c335ab0",
   "metadata": {
    "id": "bfe5eea0-11e3-4039-ab7d-11a60c335ab0"
   },
   "outputs": [],
   "source": [
    "# Convert sentiment to int format\n",
    "dfClinton['sentiment_label'] = dfClinton['sentiment_label'].replace({'POSITIVE': 1, 'NEGATIVE': -1})\n",
    "dfTrump['sentiment_label'] = dfTrump['sentiment_label'].replace({'POSITIVE': 1, 'NEGATIVE': -1})"
   ]
  },
  {
   "cell_type": "code",
   "execution_count": null,
   "id": "8684105f-4829-413c-9448-9958c9da3d43",
   "metadata": {
    "id": "8684105f-4829-413c-9448-9958c9da3d43"
   },
   "outputs": [],
   "source": [
    "#Average of sentiment values for each day\n",
    "dfClintonDay = dfClinton.groupby([dfClinton['time'].dt.date]).mean()\n",
    "dfTrumpDay = dfTrump.groupby([dfTrump['time'].dt.date]).mean()"
   ]
  },
  {
   "cell_type": "code",
   "execution_count": null,
   "id": "73b7f614-dc0f-4e23-b631-e7aa45e64243",
   "metadata": {
    "id": "73b7f614-dc0f-4e23-b631-e7aa45e64243",
    "outputId": "2ab8bcda-0fe1-4c9f-9e31-63d19025d628"
   },
   "outputs": [
    {
     "data": {
      "image/png": "[encoded data removed]",
      "text/plain": [
       "<Figure size 432x288 with 1 Axes>"
      ]
     },
     "metadata": {
      "needs_background": "light"
     },
     "output_type": "display_data"
    }
   ],
   "source": [
    "plt.plot(dfClintonDay.sentiment_label,'bo-')\n",
    "plt.plot(dfTrumpDay.sentiment_label,'ro-')\n",
    "plt.axvline(pd.Timestamp('2016-10-28'),color='k',linestyle='--')\n",
    "plt.xlabel(\"day\")\n",
    "plt.ylabel(\"mean sentiment\")\n",
    "myFmt = mdates.DateFormatter('%m/%d')\n",
    "plt.gca().xaxis.set_major_formatter(myFmt)"
   ]
  },
  {
   "cell_type": "code",
   "execution_count": null,
   "id": "c49288fe-3c87-438f-a129-370f2e427710",
   "metadata": {
    "colab": {
     "base_uri": "https://localhost:8080/",
     "height": 279
    },
    "id": "c49288fe-3c87-438f-a129-370f2e427710",
    "outputId": "e9803c96-8c44-4ab8-d161-6aba7a7dbcb8"
   },
   "outputs": [
    {
     "data": {
      "image/png": "[encoded data removed]",
      "text/plain": [
       "<Figure size 432x288 with 1 Axes>"
      ]
     },
     "metadata": {
      "needs_background": "light"
     },
     "output_type": "display_data"
    }
   ],
   "source": [
    "window_size = 3\n",
    "plt.plot(dfClintonDay.sentiment_label.rolling(window_size).mean(),'bo-')\n",
    "plt.plot(dfTrumpDay.sentiment_label.rolling(window_size).mean(),'ro-')\n",
    "plt.axvline(pd.Timestamp('2016-10-28'),color='k',linestyle='--')\n",
    "plt.xlabel(\"day\")\n",
    "plt.ylabel(\"mean sentiment\")\n",
    "myFmt = mdates.DateFormatter('%m/%d')\n",
    "plt.gca().xaxis.set_major_formatter(myFmt)"
   ]
  },
  {
   "cell_type": "code",
   "execution_count": null,
   "id": "75b8a977-ef67-4ca6-867e-808fefc9cc0d",
   "metadata": {
    "colab": {
     "base_uri": "https://localhost:8080/",
     "height": 317
    },
    "id": "75b8a977-ef67-4ca6-867e-808fefc9cc0d",
    "outputId": "241c25d8-916b-479b-de2e-09cbee0d46cd"
   },
   "outputs": [
    {
     "data": {
      "text/plain": [
       "([<matplotlib.axis.XTick at 0x7fb16529b890>,\n",
       "  <matplotlib.axis.XTick at 0x7fb16529b790>],\n",
       " [Text(0, 0, 'outgroup'), Text(0, 0, 'ingroup')])"
      ]
     },
     "execution_count": 16,
     "metadata": {},
     "output_type": "execute_result"
    },
    {
     "data": {
      "image/png": "[encoded data removed]",
      "text/plain": [
       "<Figure size 432x288 with 1 Axes>"
      ]
     },
     "metadata": {
      "needs_background": "light"
     },
     "output_type": "display_data"
    }
   ],
   "source": [
    "# Convert Orientation to int format\n",
    "dfClinton['political_label'] = dfClinton['political_label'].replace({'Democrat': -1, 'Republican': 1})\n",
    "dfTrump['political_label'] = dfTrump['political_label'].replace({'Democrat': -1, 'Republican': 1})\n",
    "\n",
    "dfClintonDayDemRep = dfClinton.groupby([dfClinton['political_label']==-1]).mean()\n",
    "dfTrumpDayDemRep = dfTrump.groupby([dfTrump['political_label']==1]).mean()\n",
    "plt.plot(dfClintonDayDemRep.sentiment_label,'bo-')\n",
    "plt.plot(dfTrumpDayDemRep.sentiment_label,'ro-')\n",
    "plt.ylabel(\"mean sentiment\")\n",
    "plt.xticks([0,1],['outgroup','ingroup'])"
   ]
  }
 ],
 "metadata": {
  "accelerator": "GPU",
  "colab": {
   "collapsed_sections": [],
   "name": "sentiment_analysis+vz_Clinton_Trump_2016_2months.ipynb",
   "provenance": [],
   "toc_visible": true
  },
  "gpuClass": "standard",
  "kernelspec": {
   "display_name": "Python 3 (ipykernel)",
   "language": "python",
   "name": "python3"
  },
  "language_info": {
   "codemirror_mode": {
    "name": "ipython",
    "version": 3
   },
   "file_extension": ".py",
   "mimetype": "text/x-python",
   "name": "python",
   "nbconvert_exporter": "python",
   "pygments_lexer": "ipython3",
   "version": "3.10.4"
  },
  "widgets": {
   "application/vnd.jupyter.widget-state+json": {
    "03c532ef4c4a45a48ce5ffabb70e604b": {
     "model_module": "@jupyter-widgets/controls",
     "model_module_version": "1.5.0",
     "model_name": "HTMLModel",
     "state": {
      "_dom_classes": [],
      "_model_module": "@jupyter-widgets/controls",
      "_model_module_version": "1.5.0",
      "_model_name": "HTMLModel",
      "_view_count": null,
      "_view_module": "@jupyter-widgets/controls",
      "_view_module_version": "1.5.0",
      "_view_name": "HTMLView",
      "description": "",
      "description_tooltip": null,
      "layout": "IPY_MODEL_dbe77607e7e14246bbb10ae9dd415075",
      "placeholder": "​",
      "style": "IPY_MODEL_3303689590f14254a7e163e73f495252",
      "value": " 112/112 [00:00&lt;00:00, 2.93kB/s]"
     }
    },
    "04174f5db4cf45b9b2d37fdc2778c6ad": {
     "model_module": "@jupyter-widgets/base",
     "model_module_version": "1.2.0",
     "model_name": "LayoutModel",
     "state": {
      "_model_module": "@jupyter-widgets/base",
      "_model_module_version": "1.2.0",
      "_model_name": "LayoutModel",
      "_view_count": null,
      "_view_module": "@jupyter-widgets/base",
      "_view_module_version": "1.2.0",
      "_view_name": "LayoutView",
      "align_content": null,
      "align_items": null,
      "align_self": null,
      "border": null,
      "bottom": null,
      "display": null,
      "flex": null,
      "flex_flow": null,
      "grid_area": null,
      "grid_auto_columns": null,
      "grid_auto_flow": null,
      "grid_auto_rows": null,
      "grid_column": null,
      "grid_gap": null,
      "grid_row": null,
      "grid_template_areas": null,
      "grid_template_columns": null,
      "grid_template_rows": null,
      "height": null,
      "justify_content": null,
      "justify_items": null,
      "left": null,
      "margin": null,
      "max_height": null,
      "max_width": null,
      "min_height": null,
      "min_width": null,
      "object_fit": null,
      "object_position": null,
      "order": null,
      "overflow": null,
      "overflow_x": null,
      "overflow_y": null,
      "padding": null,
      "right": null,
      "top": null,
      "visibility": null,
      "width": null
     }
    },
    "04c38043f1664a9cb6989a7033170f55": {
     "model_module": "@jupyter-widgets/base",
     "model_module_version": "1.2.0",
     "model_name": "LayoutModel",
     "state": {
      "_model_module": "@jupyter-widgets/base",
      "_model_module_version": "1.2.0",
      "_model_name": "LayoutModel",
      "_view_count": null,
      "_view_module": "@jupyter-widgets/base",
      "_view_module_version": "1.2.0",
      "_view_name": "LayoutView",
      "align_content": null,
      "align_items": null,
      "align_self": null,
      "border": null,
      "bottom": null,
      "display": null,
      "flex": null,
      "flex_flow": null,
      "grid_area": null,
      "grid_auto_columns": null,
      "grid_auto_flow": null,
      "grid_auto_rows": null,
      "grid_column": null,
      "grid_gap": null,
      "grid_row": null,
      "grid_template_areas": null,
      "grid_template_columns": null,
      "grid_template_rows": null,
      "height": null,
      "justify_content": null,
      "justify_items": null,
      "left": null,
      "margin": null,
      "max_height": null,
      "max_width": null,
      "min_height": null,
      "min_width": null,
      "object_fit": null,
      "object_position": null,
      "order": null,
      "overflow": null,
      "overflow_x": null,
      "overflow_y": null,
      "padding": null,
      "right": null,
      "top": null,
      "visibility": null,
      "width": null
     }
    },
    "0699d74e48ae420c84ea0cbf131047bb": {
     "model_module": "@jupyter-widgets/base",
     "model_module_version": "1.2.0",
     "model_name": "LayoutModel",
     "state": {
      "_model_module": "@jupyter-widgets/base",
      "_model_module_version": "1.2.0",
      "_model_name": "LayoutModel",
      "_view_count": null,
      "_view_module": "@jupyter-widgets/base",
      "_view_module_version": "1.2.0",
      "_view_name": "LayoutView",
      "align_content": null,
      "align_items": null,
      "align_self": null,
      "border": null,
      "bottom": null,
      "display": null,
      "flex": null,
      "flex_flow": null,
      "grid_area": null,
      "grid_auto_columns": null,
      "grid_auto_flow": null,
      "grid_auto_rows": null,
      "grid_column": null,
      "grid_gap": null,
      "grid_row": null,
      "grid_template_areas": null,
      "grid_template_columns": null,
      "grid_template_rows": null,
      "height": null,
      "justify_content": null,
      "justify_items": null,
      "left": null,
      "margin": null,
      "max_height": null,
      "max_width": null,
      "min_height": null,
      "min_width": null,
      "object_fit": null,
      "object_position": null,
      "order": null,
      "overflow": null,
      "overflow_x": null,
      "overflow_y": null,
      "padding": null,
      "right": null,
      "top": null,
      "visibility": null,
      "width": null
     }
    },
    "08497db50ce64405969dc7fe0780263b": {
     "model_module": "@jupyter-widgets/base",
     "model_module_version": "1.2.0",
     "model_name": "LayoutModel",
     "state": {
      "_model_module": "@jupyter-widgets/base",
      "_model_module_version": "1.2.0",
      "_model_name": "LayoutModel",
      "_view_count": null,
      "_view_module": "@jupyter-widgets/base",
      "_view_module_version": "1.2.0",
      "_view_name": "LayoutView",
      "align_content": null,
      "align_items": null,
      "align_self": null,
      "border": null,
      "bottom": null,
      "display": null,
      "flex": null,
      "flex_flow": null,
      "grid_area": null,
      "grid_auto_columns": null,
      "grid_auto_flow": null,
      "grid_auto_rows": null,
      "grid_column": null,
      "grid_gap": null,
      "grid_row": null,
      "grid_template_areas": null,
      "grid_template_columns": null,
      "grid_template_rows": null,
      "height": null,
      "justify_content": null,
      "justify_items": null,
      "left": null,
      "margin": null,
      "max_height": null,
      "max_width": null,
      "min_height": null,
      "min_width": null,
      "object_fit": null,
      "object_position": null,
      "order": null,
      "overflow": null,
      "overflow_x": null,
      "overflow_y": null,
      "padding": null,
      "right": null,
      "top": null,
      "visibility": null,
      "width": null
     }
    },
    "11acf578c33a4b0a97a3731b9df03f83": {
     "model_module": "@jupyter-widgets/controls",
     "model_module_version": "1.5.0",
     "model_name": "HTMLModel",
     "state": {
      "_dom_classes": [],
      "_model_module": "@jupyter-widgets/controls",
      "_model_module_version": "1.5.0",
      "_model_name": "HTMLModel",
      "_view_count": null,
      "_view_module": "@jupyter-widgets/controls",
      "_view_module_version": "1.5.0",
      "_view_name": "HTMLView",
      "description": "",
      "description_tooltip": null,
      "layout": "IPY_MODEL_04174f5db4cf45b9b2d37fdc2778c6ad",
      "placeholder": "​",
      "style": "IPY_MODEL_35e0200dbdbe4339a09b9f11f2aacb0c",
      "value": " 455k/455k [00:00&lt;00:00, 1.67MB/s]"
     }
    },
    "12c507646527479894f437ba5784bce4": {
     "model_module": "@jupyter-widgets/controls",
     "model_module_version": "1.5.0",
     "model_name": "DescriptionStyleModel",
     "state": {
      "_model_module": "@jupyter-widgets/controls",
      "_model_module_version": "1.5.0",
      "_model_name": "DescriptionStyleModel",
      "_view_count": null,
      "_view_module": "@jupyter-widgets/base",
      "_view_module_version": "1.2.0",
      "_view_name": "StyleView",
      "description_width": ""
     }
    },
    "13d796b949b54b8f8044b5541aa659ec": {
     "model_module": "@jupyter-widgets/controls",
     "model_module_version": "1.5.0",
     "model_name": "FloatProgressModel",
     "state": {
      "_dom_classes": [],
      "_model_module": "@jupyter-widgets/controls",
      "_model_module_version": "1.5.0",
      "_model_name": "FloatProgressModel",
      "_view_count": null,
      "_view_module": "@jupyter-widgets/controls",
      "_view_module_version": "1.5.0",
      "_view_name": "ProgressView",
      "bar_style": "success",
      "description": "",
      "description_tooltip": null,
      "layout": "IPY_MODEL_bb4275ab976949e4a4cf57f21195634c",
      "max": 466248,
      "min": 0,
      "orientation": "horizontal",
      "style": "IPY_MODEL_cb52cfa747c3477e99bfe8044783669a",
      "value": 466248
     }
    },
    "1abea2279a284539a2dc2ebd43b55699": {
     "model_module": "@jupyter-widgets/base",
     "model_module_version": "1.2.0",
     "model_name": "LayoutModel",
     "state": {
      "_model_module": "@jupyter-widgets/base",
      "_model_module_version": "1.2.0",
      "_model_name": "LayoutModel",
      "_view_count": null,
      "_view_module": "@jupyter-widgets/base",
      "_view_module_version": "1.2.0",
      "_view_name": "LayoutView",
      "align_content": null,
      "align_items": null,
      "align_self": null,
      "border": null,
      "bottom": null,
      "display": null,
      "flex": null,
      "flex_flow": null,
      "grid_area": null,
      "grid_auto_columns": null,
      "grid_auto_flow": null,
      "grid_auto_rows": null,
      "grid_column": null,
      "grid_gap": null,
      "grid_row": null,
      "grid_template_areas": null,
      "grid_template_columns": null,
      "grid_template_rows": null,
      "height": null,
      "justify_content": null,
      "justify_items": null,
      "left": null,
      "margin": null,
      "max_height": null,
      "max_width": null,
      "min_height": null,
      "min_width": null,
      "object_fit": null,
      "object_position": null,
      "order": null,
      "overflow": null,
      "overflow_x": null,
      "overflow_y": null,
      "padding": null,
      "right": null,
      "top": null,
      "visibility": null,
      "width": null
     }
    },
    "1e626b176a104a7ca93e2f800548fc01": {
     "model_module": "@jupyter-widgets/controls",
     "model_module_version": "1.5.0",
     "model_name": "DescriptionStyleModel",
     "state": {
      "_model_module": "@jupyter-widgets/controls",
      "_model_module_version": "1.5.0",
      "_model_name": "DescriptionStyleModel",
      "_view_count": null,
      "_view_module": "@jupyter-widgets/base",
      "_view_module_version": "1.2.0",
      "_view_name": "StyleView",
      "description_width": ""
     }
    },
    "291c90ffdb9048dc87b31905f01d3ee8": {
     "model_module": "@jupyter-widgets/controls",
     "model_module_version": "1.5.0",
     "model_name": "HTMLModel",
     "state": {
      "_dom_classes": [],
      "_model_module": "@jupyter-widgets/controls",
      "_model_module_version": "1.5.0",
      "_model_name": "HTMLModel",
      "_view_count": null,
      "_view_module": "@jupyter-widgets/controls",
      "_view_module_version": "1.5.0",
      "_view_name": "HTMLView",
      "description": "",
      "description_tooltip": null,
      "layout": "IPY_MODEL_e681d5b0159d42f5b1a701832ae4dbab",
      "placeholder": "​",
      "style": "IPY_MODEL_4a2fadff426c48858b9aa103efded358",
      "value": " 291/291 [00:00&lt;00:00, 8.68kB/s]"
     }
    },
    "2cca85affaf94d49b309e89449f682ba": {
     "model_module": "@jupyter-widgets/base",
     "model_module_version": "1.2.0",
     "model_name": "LayoutModel",
     "state": {
      "_model_module": "@jupyter-widgets/base",
      "_model_module_version": "1.2.0",
      "_model_name": "LayoutModel",
      "_view_count": null,
      "_view_module": "@jupyter-widgets/base",
      "_view_module_version": "1.2.0",
      "_view_name": "LayoutView",
      "align_content": null,
      "align_items": null,
      "align_self": null,
      "border": null,
      "bottom": null,
      "display": null,
      "flex": null,
      "flex_flow": null,
      "grid_area": null,
      "grid_auto_columns": null,
      "grid_auto_flow": null,
      "grid_auto_rows": null,
      "grid_column": null,
      "grid_gap": null,
      "grid_row": null,
      "grid_template_areas": null,
      "grid_template_columns": null,
      "grid_template_rows": null,
      "height": null,
      "justify_content": null,
      "justify_items": null,
      "left": null,
      "margin": null,
      "max_height": null,
      "max_width": null,
      "min_height": null,
      "min_width": null,
      "object_fit": null,
      "object_position": null,
      "order": null,
      "overflow": null,
      "overflow_x": null,
      "overflow_y": null,
      "padding": null,
      "right": null,
      "top": null,
      "visibility": null,
      "width": null
     }
    },
    "2f135466844d4f26a22806abda496c57": {
     "model_module": "@jupyter-widgets/base",
     "model_module_version": "1.2.0",
     "model_name": "LayoutModel",
     "state": {
      "_model_module": "@jupyter-widgets/base",
      "_model_module_version": "1.2.0",
      "_model_name": "LayoutModel",
      "_view_count": null,
      "_view_module": "@jupyter-widgets/base",
      "_view_module_version": "1.2.0",
      "_view_name": "LayoutView",
      "align_content": null,
      "align_items": null,
      "align_self": null,
      "border": null,
      "bottom": null,
      "display": null,
      "flex": null,
      "flex_flow": null,
      "grid_area": null,
      "grid_auto_columns": null,
      "grid_auto_flow": null,
      "grid_auto_rows": null,
      "grid_column": null,
      "grid_gap": null,
      "grid_row": null,
      "grid_template_areas": null,
      "grid_template_columns": null,
      "grid_template_rows": null,
      "height": null,
      "justify_content": null,
      "justify_items": null,
      "left": null,
      "margin": null,
      "max_height": null,
      "max_width": null,
      "min_height": null,
      "min_width": null,
      "object_fit": null,
      "object_position": null,
      "order": null,
      "overflow": null,
      "overflow_x": null,
      "overflow_y": null,
      "padding": null,
      "right": null,
      "top": null,
      "visibility": null,
      "width": null
     }
    },
    "2faa9f165e614c238dc58e094d178a98": {
     "model_module": "@jupyter-widgets/controls",
     "model_module_version": "1.5.0",
     "model_name": "HBoxModel",
     "state": {
      "_dom_classes": [],
      "_model_module": "@jupyter-widgets/controls",
      "_model_module_version": "1.5.0",
      "_model_name": "HBoxModel",
      "_view_count": null,
      "_view_module": "@jupyter-widgets/controls",
      "_view_module_version": "1.5.0",
      "_view_name": "HBoxView",
      "box_style": "",
      "children": [
       "IPY_MODEL_70f44feab7ea4bc4b17719d701e7beea",
       "IPY_MODEL_fb75105b7fa049f2957388d3ddec1425",
       "IPY_MODEL_03c532ef4c4a45a48ce5ffabb70e604b"
      ],
      "layout": "IPY_MODEL_3e9893ed75e24f6e8b9cb1dacaf98a07"
     }
    },
    "3303689590f14254a7e163e73f495252": {
     "model_module": "@jupyter-widgets/controls",
     "model_module_version": "1.5.0",
     "model_name": "DescriptionStyleModel",
     "state": {
      "_model_module": "@jupyter-widgets/controls",
      "_model_module_version": "1.5.0",
      "_model_name": "DescriptionStyleModel",
      "_view_count": null,
      "_view_module": "@jupyter-widgets/base",
      "_view_module_version": "1.2.0",
      "_view_name": "StyleView",
      "description_width": ""
     }
    },
    "35e0200dbdbe4339a09b9f11f2aacb0c": {
     "model_module": "@jupyter-widgets/controls",
     "model_module_version": "1.5.0",
     "model_name": "DescriptionStyleModel",
     "state": {
      "_model_module": "@jupyter-widgets/controls",
      "_model_module_version": "1.5.0",
      "_model_name": "DescriptionStyleModel",
      "_view_count": null,
      "_view_module": "@jupyter-widgets/base",
      "_view_module_version": "1.2.0",
      "_view_name": "StyleView",
      "description_width": ""
     }
    },
    "39275269cd8d488189dca7a94707a90e": {
     "model_module": "@jupyter-widgets/controls",
     "model_module_version": "1.5.0",
     "model_name": "HBoxModel",
     "state": {
      "_dom_classes": [],
      "_model_module": "@jupyter-widgets/controls",
      "_model_module_version": "1.5.0",
      "_model_name": "HBoxModel",
      "_view_count": null,
      "_view_module": "@jupyter-widgets/controls",
      "_view_module_version": "1.5.0",
      "_view_name": "HBoxView",
      "box_style": "",
      "children": [
       "IPY_MODEL_4ab9b2ee9046457c85d5b6290e0aea94",
       "IPY_MODEL_df1f5b059a944f2fb3a811a5385afce7",
       "IPY_MODEL_8cff46393e934cb990f5ca3c1d677869"
      ],
      "layout": "IPY_MODEL_0699d74e48ae420c84ea0cbf131047bb"
     }
    },
    "3e92fe02b5c44233b67163ba5fe7a920": {
     "model_module": "@jupyter-widgets/controls",
     "model_module_version": "1.5.0",
     "model_name": "HTMLModel",
     "state": {
      "_dom_classes": [],
      "_model_module": "@jupyter-widgets/controls",
      "_model_module_version": "1.5.0",
      "_model_name": "HTMLModel",
      "_view_count": null,
      "_view_module": "@jupyter-widgets/controls",
      "_view_module_version": "1.5.0",
      "_view_name": "HTMLView",
      "description": "",
      "description_tooltip": null,
      "layout": "IPY_MODEL_a2bc77899fb3474593328fcd9624cd55",
      "placeholder": "​",
      "style": "IPY_MODEL_fdb977aef72a446fa6dc44b6c58a6a31",
      "value": "Downloading tokenizer_config.json: 100%"
     }
    },
    "3e9893ed75e24f6e8b9cb1dacaf98a07": {
     "model_module": "@jupyter-widgets/base",
     "model_module_version": "1.2.0",
     "model_name": "LayoutModel",
     "state": {
      "_model_module": "@jupyter-widgets/base",
      "_model_module_version": "1.2.0",
      "_model_name": "LayoutModel",
      "_view_count": null,
      "_view_module": "@jupyter-widgets/base",
      "_view_module_version": "1.2.0",
      "_view_name": "LayoutView",
      "align_content": null,
      "align_items": null,
      "align_self": null,
      "border": null,
      "bottom": null,
      "display": null,
      "flex": null,
      "flex_flow": null,
      "grid_area": null,
      "grid_auto_columns": null,
      "grid_auto_flow": null,
      "grid_auto_rows": null,
      "grid_column": null,
      "grid_gap": null,
      "grid_row": null,
      "grid_template_areas": null,
      "grid_template_columns": null,
      "grid_template_rows": null,
      "height": null,
      "justify_content": null,
      "justify_items": null,
      "left": null,
      "margin": null,
      "max_height": null,
      "max_width": null,
      "min_height": null,
      "min_width": null,
      "object_fit": null,
      "object_position": null,
      "order": null,
      "overflow": null,
      "overflow_x": null,
      "overflow_y": null,
      "padding": null,
      "right": null,
      "top": null,
      "visibility": null,
      "width": null
     }
    },
    "419b2905f5094809bbfd6ed859962d94": {
     "model_module": "@jupyter-widgets/base",
     "model_module_version": "1.2.0",
     "model_name": "LayoutModel",
     "state": {
      "_model_module": "@jupyter-widgets/base",
      "_model_module_version": "1.2.0",
      "_model_name": "LayoutModel",
      "_view_count": null,
      "_view_module": "@jupyter-widgets/base",
      "_view_module_version": "1.2.0",
      "_view_name": "LayoutView",
      "align_content": null,
      "align_items": null,
      "align_self": null,
      "border": null,
      "bottom": null,
      "display": null,
      "flex": null,
      "flex_flow": null,
      "grid_area": null,
      "grid_auto_columns": null,
      "grid_auto_flow": null,
      "grid_auto_rows": null,
      "grid_column": null,
      "grid_gap": null,
      "grid_row": null,
      "grid_template_areas": null,
      "grid_template_columns": null,
      "grid_template_rows": null,
      "height": null,
      "justify_content": null,
      "justify_items": null,
      "left": null,
      "margin": null,
      "max_height": null,
      "max_width": null,
      "min_height": null,
      "min_width": null,
      "object_fit": null,
      "object_position": null,
      "order": null,
      "overflow": null,
      "overflow_x": null,
      "overflow_y": null,
      "padding": null,
      "right": null,
      "top": null,
      "visibility": null,
      "width": null
     }
    },
    "4a2fadff426c48858b9aa103efded358": {
     "model_module": "@jupyter-widgets/controls",
     "model_module_version": "1.5.0",
     "model_name": "DescriptionStyleModel",
     "state": {
      "_model_module": "@jupyter-widgets/controls",
      "_model_module_version": "1.5.0",
      "_model_name": "DescriptionStyleModel",
      "_view_count": null,
      "_view_module": "@jupyter-widgets/base",
      "_view_module_version": "1.2.0",
      "_view_name": "StyleView",
      "description_width": ""
     }
    },
    "4a53b7648044402dba2f5c59cca33b2a": {
     "model_module": "@jupyter-widgets/base",
     "model_module_version": "1.2.0",
     "model_name": "LayoutModel",
     "state": {
      "_model_module": "@jupyter-widgets/base",
      "_model_module_version": "1.2.0",
      "_model_name": "LayoutModel",
      "_view_count": null,
      "_view_module": "@jupyter-widgets/base",
      "_view_module_version": "1.2.0",
      "_view_name": "LayoutView",
      "align_content": null,
      "align_items": null,
      "align_self": null,
      "border": null,
      "bottom": null,
      "display": null,
      "flex": null,
      "flex_flow": null,
      "grid_area": null,
      "grid_auto_columns": null,
      "grid_auto_flow": null,
      "grid_auto_rows": null,
      "grid_column": null,
      "grid_gap": null,
      "grid_row": null,
      "grid_template_areas": null,
      "grid_template_columns": null,
      "grid_template_rows": null,
      "height": null,
      "justify_content": null,
      "justify_items": null,
      "left": null,
      "margin": null,
      "max_height": null,
      "max_width": null,
      "min_height": null,
      "min_width": null,
      "object_fit": null,
      "object_position": null,
      "order": null,
      "overflow": null,
      "overflow_x": null,
      "overflow_y": null,
      "padding": null,
      "right": null,
      "top": null,
      "visibility": null,
      "width": null
     }
    },
    "4ab9b2ee9046457c85d5b6290e0aea94": {
     "model_module": "@jupyter-widgets/controls",
     "model_module_version": "1.5.0",
     "model_name": "HTMLModel",
     "state": {
      "_dom_classes": [],
      "_model_module": "@jupyter-widgets/controls",
      "_model_module_version": "1.5.0",
      "_model_name": "HTMLModel",
      "_view_count": null,
      "_view_module": "@jupyter-widgets/controls",
      "_view_module_version": "1.5.0",
      "_view_name": "HTMLView",
      "description": "",
      "description_tooltip": null,
      "layout": "IPY_MODEL_2cca85affaf94d49b309e89449f682ba",
      "placeholder": "​",
      "style": "IPY_MODEL_ac4bad3258fe460bbb0975ae6a75a306",
      "value": "Downloading config.json: 100%"
     }
    },
    "50ae431644de4982ade4eabc6c3db979": {
     "model_module": "@jupyter-widgets/base",
     "model_module_version": "1.2.0",
     "model_name": "LayoutModel",
     "state": {
      "_model_module": "@jupyter-widgets/base",
      "_model_module_version": "1.2.0",
      "_model_name": "LayoutModel",
      "_view_count": null,
      "_view_module": "@jupyter-widgets/base",
      "_view_module_version": "1.2.0",
      "_view_name": "LayoutView",
      "align_content": null,
      "align_items": null,
      "align_self": null,
      "border": null,
      "bottom": null,
      "display": null,
      "flex": null,
      "flex_flow": null,
      "grid_area": null,
      "grid_auto_columns": null,
      "grid_auto_flow": null,
      "grid_auto_rows": null,
      "grid_column": null,
      "grid_gap": null,
      "grid_row": null,
      "grid_template_areas": null,
      "grid_template_columns": null,
      "grid_template_rows": null,
      "height": null,
      "justify_content": null,
      "justify_items": null,
      "left": null,
      "margin": null,
      "max_height": null,
      "max_width": null,
      "min_height": null,
      "min_width": null,
      "object_fit": null,
      "object_position": null,
      "order": null,
      "overflow": null,
      "overflow_x": null,
      "overflow_y": null,
      "padding": null,
      "right": null,
      "top": null,
      "visibility": null,
      "width": null
     }
    },
    "5449ce2bde754fa09de8d1c27ce4d0e7": {
     "model_module": "@jupyter-widgets/base",
     "model_module_version": "1.2.0",
     "model_name": "LayoutModel",
     "state": {
      "_model_module": "@jupyter-widgets/base",
      "_model_module_version": "1.2.0",
      "_model_name": "LayoutModel",
      "_view_count": null,
      "_view_module": "@jupyter-widgets/base",
      "_view_module_version": "1.2.0",
      "_view_name": "LayoutView",
      "align_content": null,
      "align_items": null,
      "align_self": null,
      "border": null,
      "bottom": null,
      "display": null,
      "flex": null,
      "flex_flow": null,
      "grid_area": null,
      "grid_auto_columns": null,
      "grid_auto_flow": null,
      "grid_auto_rows": null,
      "grid_column": null,
      "grid_gap": null,
      "grid_row": null,
      "grid_template_areas": null,
      "grid_template_columns": null,
      "grid_template_rows": null,
      "height": null,
      "justify_content": null,
      "justify_items": null,
      "left": null,
      "margin": null,
      "max_height": null,
      "max_width": null,
      "min_height": null,
      "min_width": null,
      "object_fit": null,
      "object_position": null,
      "order": null,
      "overflow": null,
      "overflow_x": null,
      "overflow_y": null,
      "padding": null,
      "right": null,
      "top": null,
      "visibility": null,
      "width": null
     }
    },
    "55973de4302d46ebae37ef56669d57d2": {
     "model_module": "@jupyter-widgets/controls",
     "model_module_version": "1.5.0",
     "model_name": "HTMLModel",
     "state": {
      "_dom_classes": [],
      "_model_module": "@jupyter-widgets/controls",
      "_model_module_version": "1.5.0",
      "_model_name": "HTMLModel",
      "_view_count": null,
      "_view_module": "@jupyter-widgets/controls",
      "_view_module_version": "1.5.0",
      "_view_name": "HTMLView",
      "description": "",
      "description_tooltip": null,
      "layout": "IPY_MODEL_50ae431644de4982ade4eabc6c3db979",
      "placeholder": "​",
      "style": "IPY_MODEL_ee8db236aacd4bf7bdecfa72782693c3",
      "value": "Downloading pytorch_model.bin: 100%"
     }
    },
    "56f9152430a34cb293414f295ee57729": {
     "model_module": "@jupyter-widgets/base",
     "model_module_version": "1.2.0",
     "model_name": "LayoutModel",
     "state": {
      "_model_module": "@jupyter-widgets/base",
      "_model_module_version": "1.2.0",
      "_model_name": "LayoutModel",
      "_view_count": null,
      "_view_module": "@jupyter-widgets/base",
      "_view_module_version": "1.2.0",
      "_view_name": "LayoutView",
      "align_content": null,
      "align_items": null,
      "align_self": null,
      "border": null,
      "bottom": null,
      "display": null,
      "flex": null,
      "flex_flow": null,
      "grid_area": null,
      "grid_auto_columns": null,
      "grid_auto_flow": null,
      "grid_auto_rows": null,
      "grid_column": null,
      "grid_gap": null,
      "grid_row": null,
      "grid_template_areas": null,
      "grid_template_columns": null,
      "grid_template_rows": null,
      "height": null,
      "justify_content": null,
      "justify_items": null,
      "left": null,
      "margin": null,
      "max_height": null,
      "max_width": null,
      "min_height": null,
      "min_width": null,
      "object_fit": null,
      "object_position": null,
      "order": null,
      "overflow": null,
      "overflow_x": null,
      "overflow_y": null,
      "padding": null,
      "right": null,
      "top": null,
      "visibility": null,
      "width": null
     }
    },
    "5ac204c0a88e4a9e885840ee188a2e61": {
     "model_module": "@jupyter-widgets/controls",
     "model_module_version": "1.5.0",
     "model_name": "HBoxModel",
     "state": {
      "_dom_classes": [],
      "_model_module": "@jupyter-widgets/controls",
      "_model_module_version": "1.5.0",
      "_model_name": "HBoxModel",
      "_view_count": null,
      "_view_module": "@jupyter-widgets/controls",
      "_view_module_version": "1.5.0",
      "_view_name": "HBoxView",
      "box_style": "",
      "children": [
       "IPY_MODEL_f8caaf24462d4b62948b9a4644eaa6bd",
       "IPY_MODEL_a6551e9b7b904feb9edd2246c94c72da",
       "IPY_MODEL_97d4e02fd3a24ef2aebe36c0e582c4cf"
      ],
      "layout": "IPY_MODEL_cb5b2bd6c09d42989b735d2a574c34b9"
     }
    },
    "5c2e952c325248179d99f597af0a5aed": {
     "model_module": "@jupyter-widgets/controls",
     "model_module_version": "1.5.0",
     "model_name": "DescriptionStyleModel",
     "state": {
      "_model_module": "@jupyter-widgets/controls",
      "_model_module_version": "1.5.0",
      "_model_name": "DescriptionStyleModel",
      "_view_count": null,
      "_view_module": "@jupyter-widgets/base",
      "_view_module_version": "1.2.0",
      "_view_name": "StyleView",
      "description_width": ""
     }
    },
    "6c8e4898a8c04957958fd30c31861a80": {
     "model_module": "@jupyter-widgets/controls",
     "model_module_version": "1.5.0",
     "model_name": "HTMLModel",
     "state": {
      "_dom_classes": [],
      "_model_module": "@jupyter-widgets/controls",
      "_model_module_version": "1.5.0",
      "_model_name": "HTMLModel",
      "_view_count": null,
      "_view_module": "@jupyter-widgets/controls",
      "_view_module_version": "1.5.0",
      "_view_name": "HTMLView",
      "description": "",
      "description_tooltip": null,
      "layout": "IPY_MODEL_7a0ae15d40034407bc2b3af7735ddac0",
      "placeholder": "​",
      "style": "IPY_MODEL_a50f92b7ae264281b22c25d48cec32ca",
      "value": "Downloading tokenizer.json: 100%"
     }
    },
    "70f44feab7ea4bc4b17719d701e7beea": {
     "model_module": "@jupyter-widgets/controls",
     "model_module_version": "1.5.0",
     "model_name": "HTMLModel",
     "state": {
      "_dom_classes": [],
      "_model_module": "@jupyter-widgets/controls",
      "_model_module_version": "1.5.0",
      "_model_name": "HTMLModel",
      "_view_count": null,
      "_view_module": "@jupyter-widgets/controls",
      "_view_module_version": "1.5.0",
      "_view_name": "HTMLView",
      "description": "",
      "description_tooltip": null,
      "layout": "IPY_MODEL_08497db50ce64405969dc7fe0780263b",
      "placeholder": "​",
      "style": "IPY_MODEL_5c2e952c325248179d99f597af0a5aed",
      "value": "Downloading special_tokens_map.json: 100%"
     }
    },
    "7a0ae15d40034407bc2b3af7735ddac0": {
     "model_module": "@jupyter-widgets/base",
     "model_module_version": "1.2.0",
     "model_name": "LayoutModel",
     "state": {
      "_model_module": "@jupyter-widgets/base",
      "_model_module_version": "1.2.0",
      "_model_name": "LayoutModel",
      "_view_count": null,
      "_view_module": "@jupyter-widgets/base",
      "_view_module_version": "1.2.0",
      "_view_name": "LayoutView",
      "align_content": null,
      "align_items": null,
      "align_self": null,
      "border": null,
      "bottom": null,
      "display": null,
      "flex": null,
      "flex_flow": null,
      "grid_area": null,
      "grid_auto_columns": null,
      "grid_auto_flow": null,
      "grid_auto_rows": null,
      "grid_column": null,
      "grid_gap": null,
      "grid_row": null,
      "grid_template_areas": null,
      "grid_template_columns": null,
      "grid_template_rows": null,
      "height": null,
      "justify_content": null,
      "justify_items": null,
      "left": null,
      "margin": null,
      "max_height": null,
      "max_width": null,
      "min_height": null,
      "min_width": null,
      "object_fit": null,
      "object_position": null,
      "order": null,
      "overflow": null,
      "overflow_x": null,
      "overflow_y": null,
      "padding": null,
      "right": null,
      "top": null,
      "visibility": null,
      "width": null
     }
    },
    "7f2eecb8f41e4c52bcbae183ec48070d": {
     "model_module": "@jupyter-widgets/controls",
     "model_module_version": "1.5.0",
     "model_name": "ProgressStyleModel",
     "state": {
      "_model_module": "@jupyter-widgets/controls",
      "_model_module_version": "1.5.0",
      "_model_name": "ProgressStyleModel",
      "_view_count": null,
      "_view_module": "@jupyter-widgets/base",
      "_view_module_version": "1.2.0",
      "_view_name": "StyleView",
      "bar_color": null,
      "description_width": ""
     }
    },
    "814e5135aae54afe8542436f3e0b0880": {
     "model_module": "@jupyter-widgets/base",
     "model_module_version": "1.2.0",
     "model_name": "LayoutModel",
     "state": {
      "_model_module": "@jupyter-widgets/base",
      "_model_module_version": "1.2.0",
      "_model_name": "LayoutModel",
      "_view_count": null,
      "_view_module": "@jupyter-widgets/base",
      "_view_module_version": "1.2.0",
      "_view_name": "LayoutView",
      "align_content": null,
      "align_items": null,
      "align_self": null,
      "border": null,
      "bottom": null,
      "display": null,
      "flex": null,
      "flex_flow": null,
      "grid_area": null,
      "grid_auto_columns": null,
      "grid_auto_flow": null,
      "grid_auto_rows": null,
      "grid_column": null,
      "grid_gap": null,
      "grid_row": null,
      "grid_template_areas": null,
      "grid_template_columns": null,
      "grid_template_rows": null,
      "height": null,
      "justify_content": null,
      "justify_items": null,
      "left": null,
      "margin": null,
      "max_height": null,
      "max_width": null,
      "min_height": null,
      "min_width": null,
      "object_fit": null,
      "object_position": null,
      "order": null,
      "overflow": null,
      "overflow_x": null,
      "overflow_y": null,
      "padding": null,
      "right": null,
      "top": null,
      "visibility": null,
      "width": null
     }
    },
    "8cff46393e934cb990f5ca3c1d677869": {
     "model_module": "@jupyter-widgets/controls",
     "model_module_version": "1.5.0",
     "model_name": "HTMLModel",
     "state": {
      "_dom_classes": [],
      "_model_module": "@jupyter-widgets/controls",
      "_model_module_version": "1.5.0",
      "_model_name": "HTMLModel",
      "_view_count": null,
      "_view_module": "@jupyter-widgets/controls",
      "_view_module_version": "1.5.0",
      "_view_name": "HTMLView",
      "description": "",
      "description_tooltip": null,
      "layout": "IPY_MODEL_1abea2279a284539a2dc2ebd43b55699",
      "placeholder": "​",
      "style": "IPY_MODEL_12c507646527479894f437ba5784bce4",
      "value": " 788/788 [00:00&lt;00:00, 20.1kB/s]"
     }
    },
    "91a3f6e3dffa4c01af4f96f0dadc485c": {
     "model_module": "@jupyter-widgets/base",
     "model_module_version": "1.2.0",
     "model_name": "LayoutModel",
     "state": {
      "_model_module": "@jupyter-widgets/base",
      "_model_module_version": "1.2.0",
      "_model_name": "LayoutModel",
      "_view_count": null,
      "_view_module": "@jupyter-widgets/base",
      "_view_module_version": "1.2.0",
      "_view_name": "LayoutView",
      "align_content": null,
      "align_items": null,
      "align_self": null,
      "border": null,
      "bottom": null,
      "display": null,
      "flex": null,
      "flex_flow": null,
      "grid_area": null,
      "grid_auto_columns": null,
      "grid_auto_flow": null,
      "grid_auto_rows": null,
      "grid_column": null,
      "grid_gap": null,
      "grid_row": null,
      "grid_template_areas": null,
      "grid_template_columns": null,
      "grid_template_rows": null,
      "height": null,
      "justify_content": null,
      "justify_items": null,
      "left": null,
      "margin": null,
      "max_height": null,
      "max_width": null,
      "min_height": null,
      "min_width": null,
      "object_fit": null,
      "object_position": null,
      "order": null,
      "overflow": null,
      "overflow_x": null,
      "overflow_y": null,
      "padding": null,
      "right": null,
      "top": null,
      "visibility": null,
      "width": null
     }
    },
    "95bcd05cb8004272ab113ab3320c0a88": {
     "model_module": "@jupyter-widgets/controls",
     "model_module_version": "1.5.0",
     "model_name": "FloatProgressModel",
     "state": {
      "_dom_classes": [],
      "_model_module": "@jupyter-widgets/controls",
      "_model_module_version": "1.5.0",
      "_model_name": "FloatProgressModel",
      "_view_count": null,
      "_view_module": "@jupyter-widgets/controls",
      "_view_module_version": "1.5.0",
      "_view_name": "ProgressView",
      "bar_style": "success",
      "description": "",
      "description_tooltip": null,
      "layout": "IPY_MODEL_04c38043f1664a9cb6989a7033170f55",
      "max": 267860081,
      "min": 0,
      "orientation": "horizontal",
      "style": "IPY_MODEL_a9bac648c9cf4bbfb119d25e31b8c496",
      "value": 267860081
     }
    },
    "97d4e02fd3a24ef2aebe36c0e582c4cf": {
     "model_module": "@jupyter-widgets/controls",
     "model_module_version": "1.5.0",
     "model_name": "HTMLModel",
     "state": {
      "_dom_classes": [],
      "_model_module": "@jupyter-widgets/controls",
      "_model_module_version": "1.5.0",
      "_model_name": "HTMLModel",
      "_view_count": null,
      "_view_module": "@jupyter-widgets/controls",
      "_view_module_version": "1.5.0",
      "_view_name": "HTMLView",
      "description": "",
      "description_tooltip": null,
      "layout": "IPY_MODEL_91a3f6e3dffa4c01af4f96f0dadc485c",
      "placeholder": "​",
      "style": "IPY_MODEL_d72a56af193f4de5b793236d3a525c4b",
      "value": " 226k/226k [00:00&lt;00:00, 902kB/s]"
     }
    },
    "9ca5f055636f4bcd81bc83519386a183": {
     "model_module": "@jupyter-widgets/controls",
     "model_module_version": "1.5.0",
     "model_name": "ProgressStyleModel",
     "state": {
      "_model_module": "@jupyter-widgets/controls",
      "_model_module_version": "1.5.0",
      "_model_name": "ProgressStyleModel",
      "_view_count": null,
      "_view_module": "@jupyter-widgets/base",
      "_view_module_version": "1.2.0",
      "_view_name": "StyleView",
      "bar_color": null,
      "description_width": ""
     }
    },
    "a2bc77899fb3474593328fcd9624cd55": {
     "model_module": "@jupyter-widgets/base",
     "model_module_version": "1.2.0",
     "model_name": "LayoutModel",
     "state": {
      "_model_module": "@jupyter-widgets/base",
      "_model_module_version": "1.2.0",
      "_model_name": "LayoutModel",
      "_view_count": null,
      "_view_module": "@jupyter-widgets/base",
      "_view_module_version": "1.2.0",
      "_view_name": "LayoutView",
      "align_content": null,
      "align_items": null,
      "align_self": null,
      "border": null,
      "bottom": null,
      "display": null,
      "flex": null,
      "flex_flow": null,
      "grid_area": null,
      "grid_auto_columns": null,
      "grid_auto_flow": null,
      "grid_auto_rows": null,
      "grid_column": null,
      "grid_gap": null,
      "grid_row": null,
      "grid_template_areas": null,
      "grid_template_columns": null,
      "grid_template_rows": null,
      "height": null,
      "justify_content": null,
      "justify_items": null,
      "left": null,
      "margin": null,
      "max_height": null,
      "max_width": null,
      "min_height": null,
      "min_width": null,
      "object_fit": null,
      "object_position": null,
      "order": null,
      "overflow": null,
      "overflow_x": null,
      "overflow_y": null,
      "padding": null,
      "right": null,
      "top": null,
      "visibility": null,
      "width": null
     }
    },
    "a50f92b7ae264281b22c25d48cec32ca": {
     "model_module": "@jupyter-widgets/controls",
     "model_module_version": "1.5.0",
     "model_name": "DescriptionStyleModel",
     "state": {
      "_model_module": "@jupyter-widgets/controls",
      "_model_module_version": "1.5.0",
      "_model_name": "DescriptionStyleModel",
      "_view_count": null,
      "_view_module": "@jupyter-widgets/base",
      "_view_module_version": "1.2.0",
      "_view_name": "StyleView",
      "description_width": ""
     }
    },
    "a6551e9b7b904feb9edd2246c94c72da": {
     "model_module": "@jupyter-widgets/controls",
     "model_module_version": "1.5.0",
     "model_name": "FloatProgressModel",
     "state": {
      "_dom_classes": [],
      "_model_module": "@jupyter-widgets/controls",
      "_model_module_version": "1.5.0",
      "_model_name": "FloatProgressModel",
      "_view_count": null,
      "_view_module": "@jupyter-widgets/controls",
      "_view_module_version": "1.5.0",
      "_view_name": "ProgressView",
      "bar_style": "success",
      "description": "",
      "description_tooltip": null,
      "layout": "IPY_MODEL_4a53b7648044402dba2f5c59cca33b2a",
      "max": 231508,
      "min": 0,
      "orientation": "horizontal",
      "style": "IPY_MODEL_7f2eecb8f41e4c52bcbae183ec48070d",
      "value": 231508
     }
    },
    "a9bac648c9cf4bbfb119d25e31b8c496": {
     "model_module": "@jupyter-widgets/controls",
     "model_module_version": "1.5.0",
     "model_name": "ProgressStyleModel",
     "state": {
      "_model_module": "@jupyter-widgets/controls",
      "_model_module_version": "1.5.0",
      "_model_name": "ProgressStyleModel",
      "_view_count": null,
      "_view_module": "@jupyter-widgets/base",
      "_view_module_version": "1.2.0",
      "_view_name": "StyleView",
      "bar_color": null,
      "description_width": ""
     }
    },
    "ac4bad3258fe460bbb0975ae6a75a306": {
     "model_module": "@jupyter-widgets/controls",
     "model_module_version": "1.5.0",
     "model_name": "DescriptionStyleModel",
     "state": {
      "_model_module": "@jupyter-widgets/controls",
      "_model_module_version": "1.5.0",
      "_model_name": "DescriptionStyleModel",
      "_view_count": null,
      "_view_module": "@jupyter-widgets/base",
      "_view_module_version": "1.2.0",
      "_view_name": "StyleView",
      "description_width": ""
     }
    },
    "b66c4c5e27a042a8a17e396d4ef1b8ce": {
     "model_module": "@jupyter-widgets/controls",
     "model_module_version": "1.5.0",
     "model_name": "FloatProgressModel",
     "state": {
      "_dom_classes": [],
      "_model_module": "@jupyter-widgets/controls",
      "_model_module_version": "1.5.0",
      "_model_name": "FloatProgressModel",
      "_view_count": null,
      "_view_module": "@jupyter-widgets/controls",
      "_view_module_version": "1.5.0",
      "_view_name": "ProgressView",
      "bar_style": "success",
      "description": "",
      "description_tooltip": null,
      "layout": "IPY_MODEL_ccf6c71de74e42669223c462cc93a86e",
      "max": 291,
      "min": 0,
      "orientation": "horizontal",
      "style": "IPY_MODEL_ec151fb2f5874fdc92f642aa5866d7f1",
      "value": 291
     }
    },
    "bb4275ab976949e4a4cf57f21195634c": {
     "model_module": "@jupyter-widgets/base",
     "model_module_version": "1.2.0",
     "model_name": "LayoutModel",
     "state": {
      "_model_module": "@jupyter-widgets/base",
      "_model_module_version": "1.2.0",
      "_model_name": "LayoutModel",
      "_view_count": null,
      "_view_module": "@jupyter-widgets/base",
      "_view_module_version": "1.2.0",
      "_view_name": "LayoutView",
      "align_content": null,
      "align_items": null,
      "align_self": null,
      "border": null,
      "bottom": null,
      "display": null,
      "flex": null,
      "flex_flow": null,
      "grid_area": null,
      "grid_auto_columns": null,
      "grid_auto_flow": null,
      "grid_auto_rows": null,
      "grid_column": null,
      "grid_gap": null,
      "grid_row": null,
      "grid_template_areas": null,
      "grid_template_columns": null,
      "grid_template_rows": null,
      "height": null,
      "justify_content": null,
      "justify_items": null,
      "left": null,
      "margin": null,
      "max_height": null,
      "max_width": null,
      "min_height": null,
      "min_width": null,
      "object_fit": null,
      "object_position": null,
      "order": null,
      "overflow": null,
      "overflow_x": null,
      "overflow_y": null,
      "padding": null,
      "right": null,
      "top": null,
      "visibility": null,
      "width": null
     }
    },
    "c820166d823549c1b8d6265fa2202efe": {
     "model_module": "@jupyter-widgets/controls",
     "model_module_version": "1.5.0",
     "model_name": "HBoxModel",
     "state": {
      "_dom_classes": [],
      "_model_module": "@jupyter-widgets/controls",
      "_model_module_version": "1.5.0",
      "_model_name": "HBoxModel",
      "_view_count": null,
      "_view_module": "@jupyter-widgets/controls",
      "_view_module_version": "1.5.0",
      "_view_name": "HBoxView",
      "box_style": "",
      "children": [
       "IPY_MODEL_3e92fe02b5c44233b67163ba5fe7a920",
       "IPY_MODEL_b66c4c5e27a042a8a17e396d4ef1b8ce",
       "IPY_MODEL_291c90ffdb9048dc87b31905f01d3ee8"
      ],
      "layout": "IPY_MODEL_56f9152430a34cb293414f295ee57729"
     }
    },
    "cb52cfa747c3477e99bfe8044783669a": {
     "model_module": "@jupyter-widgets/controls",
     "model_module_version": "1.5.0",
     "model_name": "ProgressStyleModel",
     "state": {
      "_model_module": "@jupyter-widgets/controls",
      "_model_module_version": "1.5.0",
      "_model_name": "ProgressStyleModel",
      "_view_count": null,
      "_view_module": "@jupyter-widgets/base",
      "_view_module_version": "1.2.0",
      "_view_name": "StyleView",
      "bar_color": null,
      "description_width": ""
     }
    },
    "cb5b2bd6c09d42989b735d2a574c34b9": {
     "model_module": "@jupyter-widgets/base",
     "model_module_version": "1.2.0",
     "model_name": "LayoutModel",
     "state": {
      "_model_module": "@jupyter-widgets/base",
      "_model_module_version": "1.2.0",
      "_model_name": "LayoutModel",
      "_view_count": null,
      "_view_module": "@jupyter-widgets/base",
      "_view_module_version": "1.2.0",
      "_view_name": "LayoutView",
      "align_content": null,
      "align_items": null,
      "align_self": null,
      "border": null,
      "bottom": null,
      "display": null,
      "flex": null,
      "flex_flow": null,
      "grid_area": null,
      "grid_auto_columns": null,
      "grid_auto_flow": null,
      "grid_auto_rows": null,
      "grid_column": null,
      "grid_gap": null,
      "grid_row": null,
      "grid_template_areas": null,
      "grid_template_columns": null,
      "grid_template_rows": null,
      "height": null,
      "justify_content": null,
      "justify_items": null,
      "left": null,
      "margin": null,
      "max_height": null,
      "max_width": null,
      "min_height": null,
      "min_width": null,
      "object_fit": null,
      "object_position": null,
      "order": null,
      "overflow": null,
      "overflow_x": null,
      "overflow_y": null,
      "padding": null,
      "right": null,
      "top": null,
      "visibility": null,
      "width": null
     }
    },
    "ccf6c71de74e42669223c462cc93a86e": {
     "model_module": "@jupyter-widgets/base",
     "model_module_version": "1.2.0",
     "model_name": "LayoutModel",
     "state": {
      "_model_module": "@jupyter-widgets/base",
      "_model_module_version": "1.2.0",
      "_model_name": "LayoutModel",
      "_view_count": null,
      "_view_module": "@jupyter-widgets/base",
      "_view_module_version": "1.2.0",
      "_view_name": "LayoutView",
      "align_content": null,
      "align_items": null,
      "align_self": null,
      "border": null,
      "bottom": null,
      "display": null,
      "flex": null,
      "flex_flow": null,
      "grid_area": null,
      "grid_auto_columns": null,
      "grid_auto_flow": null,
      "grid_auto_rows": null,
      "grid_column": null,
      "grid_gap": null,
      "grid_row": null,
      "grid_template_areas": null,
      "grid_template_columns": null,
      "grid_template_rows": null,
      "height": null,
      "justify_content": null,
      "justify_items": null,
      "left": null,
      "margin": null,
      "max_height": null,
      "max_width": null,
      "min_height": null,
      "min_width": null,
      "object_fit": null,
      "object_position": null,
      "order": null,
      "overflow": null,
      "overflow_x": null,
      "overflow_y": null,
      "padding": null,
      "right": null,
      "top": null,
      "visibility": null,
      "width": null
     }
    },
    "d20bbafe0eae466db0a72e0de738fa98": {
     "model_module": "@jupyter-widgets/controls",
     "model_module_version": "1.5.0",
     "model_name": "HBoxModel",
     "state": {
      "_dom_classes": [],
      "_model_module": "@jupyter-widgets/controls",
      "_model_module_version": "1.5.0",
      "_model_name": "HBoxModel",
      "_view_count": null,
      "_view_module": "@jupyter-widgets/controls",
      "_view_module_version": "1.5.0",
      "_view_name": "HBoxView",
      "box_style": "",
      "children": [
       "IPY_MODEL_55973de4302d46ebae37ef56669d57d2",
       "IPY_MODEL_95bcd05cb8004272ab113ab3320c0a88",
       "IPY_MODEL_f218bc7fe6ec48c8b6c791320ba4ea4d"
      ],
      "layout": "IPY_MODEL_f98531725e404399aad7f7f5aba548c6"
     }
    },
    "d69ec92f6c074f4a9b5ae262a0bd8a5e": {
     "model_module": "@jupyter-widgets/base",
     "model_module_version": "1.2.0",
     "model_name": "LayoutModel",
     "state": {
      "_model_module": "@jupyter-widgets/base",
      "_model_module_version": "1.2.0",
      "_model_name": "LayoutModel",
      "_view_count": null,
      "_view_module": "@jupyter-widgets/base",
      "_view_module_version": "1.2.0",
      "_view_name": "LayoutView",
      "align_content": null,
      "align_items": null,
      "align_self": null,
      "border": null,
      "bottom": null,
      "display": null,
      "flex": null,
      "flex_flow": null,
      "grid_area": null,
      "grid_auto_columns": null,
      "grid_auto_flow": null,
      "grid_auto_rows": null,
      "grid_column": null,
      "grid_gap": null,
      "grid_row": null,
      "grid_template_areas": null,
      "grid_template_columns": null,
      "grid_template_rows": null,
      "height": null,
      "justify_content": null,
      "justify_items": null,
      "left": null,
      "margin": null,
      "max_height": null,
      "max_width": null,
      "min_height": null,
      "min_width": null,
      "object_fit": null,
      "object_position": null,
      "order": null,
      "overflow": null,
      "overflow_x": null,
      "overflow_y": null,
      "padding": null,
      "right": null,
      "top": null,
      "visibility": null,
      "width": null
     }
    },
    "d72a56af193f4de5b793236d3a525c4b": {
     "model_module": "@jupyter-widgets/controls",
     "model_module_version": "1.5.0",
     "model_name": "DescriptionStyleModel",
     "state": {
      "_model_module": "@jupyter-widgets/controls",
      "_model_module_version": "1.5.0",
      "_model_name": "DescriptionStyleModel",
      "_view_count": null,
      "_view_module": "@jupyter-widgets/base",
      "_view_module_version": "1.2.0",
      "_view_name": "StyleView",
      "description_width": ""
     }
    },
    "dbe77607e7e14246bbb10ae9dd415075": {
     "model_module": "@jupyter-widgets/base",
     "model_module_version": "1.2.0",
     "model_name": "LayoutModel",
     "state": {
      "_model_module": "@jupyter-widgets/base",
      "_model_module_version": "1.2.0",
      "_model_name": "LayoutModel",
      "_view_count": null,
      "_view_module": "@jupyter-widgets/base",
      "_view_module_version": "1.2.0",
      "_view_name": "LayoutView",
      "align_content": null,
      "align_items": null,
      "align_self": null,
      "border": null,
      "bottom": null,
      "display": null,
      "flex": null,
      "flex_flow": null,
      "grid_area": null,
      "grid_auto_columns": null,
      "grid_auto_flow": null,
      "grid_auto_rows": null,
      "grid_column": null,
      "grid_gap": null,
      "grid_row": null,
      "grid_template_areas": null,
      "grid_template_columns": null,
      "grid_template_rows": null,
      "height": null,
      "justify_content": null,
      "justify_items": null,
      "left": null,
      "margin": null,
      "max_height": null,
      "max_width": null,
      "min_height": null,
      "min_width": null,
      "object_fit": null,
      "object_position": null,
      "order": null,
      "overflow": null,
      "overflow_x": null,
      "overflow_y": null,
      "padding": null,
      "right": null,
      "top": null,
      "visibility": null,
      "width": null
     }
    },
    "df1f5b059a944f2fb3a811a5385afce7": {
     "model_module": "@jupyter-widgets/controls",
     "model_module_version": "1.5.0",
     "model_name": "FloatProgressModel",
     "state": {
      "_dom_classes": [],
      "_model_module": "@jupyter-widgets/controls",
      "_model_module_version": "1.5.0",
      "_model_name": "FloatProgressModel",
      "_view_count": null,
      "_view_module": "@jupyter-widgets/controls",
      "_view_module_version": "1.5.0",
      "_view_name": "ProgressView",
      "bar_style": "success",
      "description": "",
      "description_tooltip": null,
      "layout": "IPY_MODEL_2f135466844d4f26a22806abda496c57",
      "max": 788,
      "min": 0,
      "orientation": "horizontal",
      "style": "IPY_MODEL_fecbba9bfe3e4051b65c36cfa0ebc9ed",
      "value": 788
     }
    },
    "e681d5b0159d42f5b1a701832ae4dbab": {
     "model_module": "@jupyter-widgets/base",
     "model_module_version": "1.2.0",
     "model_name": "LayoutModel",
     "state": {
      "_model_module": "@jupyter-widgets/base",
      "_model_module_version": "1.2.0",
      "_model_name": "LayoutModel",
      "_view_count": null,
      "_view_module": "@jupyter-widgets/base",
      "_view_module_version": "1.2.0",
      "_view_name": "LayoutView",
      "align_content": null,
      "align_items": null,
      "align_self": null,
      "border": null,
      "bottom": null,
      "display": null,
      "flex": null,
      "flex_flow": null,
      "grid_area": null,
      "grid_auto_columns": null,
      "grid_auto_flow": null,
      "grid_auto_rows": null,
      "grid_column": null,
      "grid_gap": null,
      "grid_row": null,
      "grid_template_areas": null,
      "grid_template_columns": null,
      "grid_template_rows": null,
      "height": null,
      "justify_content": null,
      "justify_items": null,
      "left": null,
      "margin": null,
      "max_height": null,
      "max_width": null,
      "min_height": null,
      "min_width": null,
      "object_fit": null,
      "object_position": null,
      "order": null,
      "overflow": null,
      "overflow_x": null,
      "overflow_y": null,
      "padding": null,
      "right": null,
      "top": null,
      "visibility": null,
      "width": null
     }
    },
    "e7f3b5699ad946178b2796c410ec22ab": {
     "model_module": "@jupyter-widgets/controls",
     "model_module_version": "1.5.0",
     "model_name": "DescriptionStyleModel",
     "state": {
      "_model_module": "@jupyter-widgets/controls",
      "_model_module_version": "1.5.0",
      "_model_name": "DescriptionStyleModel",
      "_view_count": null,
      "_view_module": "@jupyter-widgets/base",
      "_view_module_version": "1.2.0",
      "_view_name": "StyleView",
      "description_width": ""
     }
    },
    "ec151fb2f5874fdc92f642aa5866d7f1": {
     "model_module": "@jupyter-widgets/controls",
     "model_module_version": "1.5.0",
     "model_name": "ProgressStyleModel",
     "state": {
      "_model_module": "@jupyter-widgets/controls",
      "_model_module_version": "1.5.0",
      "_model_name": "ProgressStyleModel",
      "_view_count": null,
      "_view_module": "@jupyter-widgets/base",
      "_view_module_version": "1.2.0",
      "_view_name": "StyleView",
      "bar_color": null,
      "description_width": ""
     }
    },
    "ee8db236aacd4bf7bdecfa72782693c3": {
     "model_module": "@jupyter-widgets/controls",
     "model_module_version": "1.5.0",
     "model_name": "DescriptionStyleModel",
     "state": {
      "_model_module": "@jupyter-widgets/controls",
      "_model_module_version": "1.5.0",
      "_model_name": "DescriptionStyleModel",
      "_view_count": null,
      "_view_module": "@jupyter-widgets/base",
      "_view_module_version": "1.2.0",
      "_view_name": "StyleView",
      "description_width": ""
     }
    },
    "f218bc7fe6ec48c8b6c791320ba4ea4d": {
     "model_module": "@jupyter-widgets/controls",
     "model_module_version": "1.5.0",
     "model_name": "HTMLModel",
     "state": {
      "_dom_classes": [],
      "_model_module": "@jupyter-widgets/controls",
      "_model_module_version": "1.5.0",
      "_model_name": "HTMLModel",
      "_view_count": null,
      "_view_module": "@jupyter-widgets/controls",
      "_view_module_version": "1.5.0",
      "_view_name": "HTMLView",
      "description": "",
      "description_tooltip": null,
      "layout": "IPY_MODEL_5449ce2bde754fa09de8d1c27ce4d0e7",
      "placeholder": "​",
      "style": "IPY_MODEL_e7f3b5699ad946178b2796c410ec22ab",
      "value": " 255M/255M [00:04&lt;00:00, 57.9MB/s]"
     }
    },
    "f8caaf24462d4b62948b9a4644eaa6bd": {
     "model_module": "@jupyter-widgets/controls",
     "model_module_version": "1.5.0",
     "model_name": "HTMLModel",
     "state": {
      "_dom_classes": [],
      "_model_module": "@jupyter-widgets/controls",
      "_model_module_version": "1.5.0",
      "_model_name": "HTMLModel",
      "_view_count": null,
      "_view_module": "@jupyter-widgets/controls",
      "_view_module_version": "1.5.0",
      "_view_name": "HTMLView",
      "description": "",
      "description_tooltip": null,
      "layout": "IPY_MODEL_d69ec92f6c074f4a9b5ae262a0bd8a5e",
      "placeholder": "​",
      "style": "IPY_MODEL_1e626b176a104a7ca93e2f800548fc01",
      "value": "Downloading vocab.txt: 100%"
     }
    },
    "f98531725e404399aad7f7f5aba548c6": {
     "model_module": "@jupyter-widgets/base",
     "model_module_version": "1.2.0",
     "model_name": "LayoutModel",
     "state": {
      "_model_module": "@jupyter-widgets/base",
      "_model_module_version": "1.2.0",
      "_model_name": "LayoutModel",
      "_view_count": null,
      "_view_module": "@jupyter-widgets/base",
      "_view_module_version": "1.2.0",
      "_view_name": "LayoutView",
      "align_content": null,
      "align_items": null,
      "align_self": null,
      "border": null,
      "bottom": null,
      "display": null,
      "flex": null,
      "flex_flow": null,
      "grid_area": null,
      "grid_auto_columns": null,
      "grid_auto_flow": null,
      "grid_auto_rows": null,
      "grid_column": null,
      "grid_gap": null,
      "grid_row": null,
      "grid_template_areas": null,
      "grid_template_columns": null,
      "grid_template_rows": null,
      "height": null,
      "justify_content": null,
      "justify_items": null,
      "left": null,
      "margin": null,
      "max_height": null,
      "max_width": null,
      "min_height": null,
      "min_width": null,
      "object_fit": null,
      "object_position": null,
      "order": null,
      "overflow": null,
      "overflow_x": null,
      "overflow_y": null,
      "padding": null,
      "right": null,
      "top": null,
      "visibility": null,
      "width": null
     }
    },
    "fb75105b7fa049f2957388d3ddec1425": {
     "model_module": "@jupyter-widgets/controls",
     "model_module_version": "1.5.0",
     "model_name": "FloatProgressModel",
     "state": {
      "_dom_classes": [],
      "_model_module": "@jupyter-widgets/controls",
      "_model_module_version": "1.5.0",
      "_model_name": "FloatProgressModel",
      "_view_count": null,
      "_view_module": "@jupyter-widgets/controls",
      "_view_module_version": "1.5.0",
      "_view_name": "ProgressView",
      "bar_style": "success",
      "description": "",
      "description_tooltip": null,
      "layout": "IPY_MODEL_814e5135aae54afe8542436f3e0b0880",
      "max": 112,
      "min": 0,
      "orientation": "horizontal",
      "style": "IPY_MODEL_9ca5f055636f4bcd81bc83519386a183",
      "value": 112
     }
    },
    "fdb977aef72a446fa6dc44b6c58a6a31": {
     "model_module": "@jupyter-widgets/controls",
     "model_module_version": "1.5.0",
     "model_name": "DescriptionStyleModel",
     "state": {
      "_model_module": "@jupyter-widgets/controls",
      "_model_module_version": "1.5.0",
      "_model_name": "DescriptionStyleModel",
      "_view_count": null,
      "_view_module": "@jupyter-widgets/base",
      "_view_module_version": "1.2.0",
      "_view_name": "StyleView",
      "description_width": ""
     }
    },
    "fecbba9bfe3e4051b65c36cfa0ebc9ed": {
     "model_module": "@jupyter-widgets/controls",
     "model_module_version": "1.5.0",
     "model_name": "ProgressStyleModel",
     "state": {
      "_model_module": "@jupyter-widgets/controls",
      "_model_module_version": "1.5.0",
      "_model_name": "ProgressStyleModel",
      "_view_count": null,
      "_view_module": "@jupyter-widgets/base",
      "_view_module_version": "1.2.0",
      "_view_name": "StyleView",
      "bar_color": null,
      "description_width": ""
     }
    },
    "ffb5f57bfdb2460e84edc13ba628504a": {
     "model_module": "@jupyter-widgets/controls",
     "model_module_version": "1.5.0",
     "model_name": "HBoxModel",
     "state": {
      "_dom_classes": [],
      "_model_module": "@jupyter-widgets/controls",
      "_model_module_version": "1.5.0",
      "_model_name": "HBoxModel",
      "_view_count": null,
      "_view_module": "@jupyter-widgets/controls",
      "_view_module_version": "1.5.0",
      "_view_name": "HBoxView",
      "box_style": "",
      "children": [
       "IPY_MODEL_6c8e4898a8c04957958fd30c31861a80",
       "IPY_MODEL_13d796b949b54b8f8044b5541aa659ec",
       "IPY_MODEL_11acf578c33a4b0a97a3731b9df03f83"
      ],
      "layout": "IPY_MODEL_419b2905f5094809bbfd6ed859962d94"
     }
    }
   }
  }
 },
 "nbformat": 4,
 "nbformat_minor": 5
}
